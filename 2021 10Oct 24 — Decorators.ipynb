{
 "cells": [
  {
   "cell_type": "markdown",
   "id": "df790619-41b0-4056-8e67-530aae3111f0",
   "metadata": {},
   "source": [
    "# Agenda\n",
    "\n",
    "1. What are decorators?\n",
    "2. Decorating functions\n",
    "3. Outer functions and decorators\n",
    "4. Using the outer function in the decorator\n",
    "5. Arguments to decorators\n",
    "6. Decorating classes\n",
    "7. Writing decorators as classes\n",
    "8. Fixing some tiny decorator issues"
   ]
  },
  {
   "cell_type": "code",
   "execution_count": 2,
   "id": "686895b6-ab31-429e-8926-b404b8bc8ddb",
   "metadata": {},
   "outputs": [
    {
     "name": "stdout",
     "output_type": "stream",
     "text": [
      "A!\n",
      "B!\n"
     ]
    }
   ],
   "source": [
    "def a():\n",
    "    return 'A!'\n",
    "\n",
    "def b():\n",
    "    return 'B!'\n",
    "\n",
    "print(a())\n",
    "print(b())"
   ]
  },
  {
   "cell_type": "code",
   "execution_count": 3,
   "id": "7367b113-27e6-485c-98be-b282ace26593",
   "metadata": {},
   "outputs": [
    {
     "name": "stdout",
     "output_type": "stream",
     "text": [
      "------------------------------------------------------------\n",
      "A!\n",
      "------------------------------------------------------------\n",
      "\n",
      "------------------------------------------------------------\n",
      "B!\n",
      "------------------------------------------------------------\n",
      "\n"
     ]
    }
   ],
   "source": [
    "# put lines above and below each printout\n",
    "\n",
    "lines = '-' * 60 + '\\n'\n",
    "\n",
    "def a():\n",
    "    return f'{lines}A!\\n{lines}'\n",
    "\n",
    "def b():\n",
    "    return f'{lines}B!\\n{lines}'\n",
    "\n",
    "print(a())\n",
    "print(b())"
   ]
  },
  {
   "cell_type": "markdown",
   "id": "43ec5505-5c97-4152-9a6b-dfe7e86f81ac",
   "metadata": {},
   "source": [
    "# About functions\n",
    "\n",
    "1. Functions are objects, just like everything else in Python.\n",
    "2. When I use `def`, I'm doing two things:\n",
    "    - Creating a function object\n",
    "    - Assigning that function object to a variable\n",
    "3. When I assign a varible in a function, then that variable is local\n",
    "4. I can pass functions as arguments to other functions\n",
    "5. A function can return any type of object, including another function"
   ]
  },
  {
   "cell_type": "code",
   "execution_count": 5,
   "id": "6dd3c159-b28f-4b39-81c5-8734719a3ce7",
   "metadata": {},
   "outputs": [
    {
     "name": "stdout",
     "output_type": "stream",
     "text": [
      "------------------------------------------------------------\n",
      "A!\n",
      "------------------------------------------------------------\n",
      "\n",
      "------------------------------------------------------------\n",
      "B!\n",
      "------------------------------------------------------------\n",
      "\n"
     ]
    }
   ],
   "source": [
    "# use a function\n",
    "\n",
    "lines = '-' * 60 + '\\n'\n",
    "\n",
    "def with_lines(func):\n",
    "    return f'{lines}{func()}{lines}'\n",
    "\n",
    "def a():\n",
    "    return f'A!\\n'\n",
    "\n",
    "def b():\n",
    "    return f'B!\\n'\n",
    "\n",
    "print(with_lines(a))\n",
    "print(with_lines(b))"
   ]
  },
  {
   "cell_type": "code",
   "execution_count": null,
   "id": "139669c0-4230-4fba-b405-ec81801915e8",
   "metadata": {},
   "outputs": [],
   "source": []
  }
 ],
 "metadata": {
  "kernelspec": {
   "display_name": "Python 3 (ipykernel)",
   "language": "python",
   "name": "python3"
  },
  "language_info": {
   "codemirror_mode": {
    "name": "ipython",
    "version": 3
   },
   "file_extension": ".py",
   "mimetype": "text/x-python",
   "name": "python",
   "nbconvert_exporter": "python",
   "pygments_lexer": "ipython3",
   "version": "3.10.0"
  }
 },
 "nbformat": 4,
 "nbformat_minor": 5
}
