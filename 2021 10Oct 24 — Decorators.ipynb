{
 "cells": [
  {
   "cell_type": "markdown",
   "id": "df790619-41b0-4056-8e67-530aae3111f0",
   "metadata": {},
   "source": [
    "# Agenda\n",
    "\n",
    "1. What are decorators?\n",
    "2. Decorating functions\n",
    "3. Outer functions and decorators\n",
    "4. Using the outer function in the decorator\n",
    "5. Arguments to decorators\n",
    "6. Decorating classes\n",
    "7. Writing decorators as classes\n",
    "8. Fixing some tiny decorator issues"
   ]
  },
  {
   "cell_type": "code",
   "execution_count": 2,
   "id": "686895b6-ab31-429e-8926-b404b8bc8ddb",
   "metadata": {},
   "outputs": [
    {
     "name": "stdout",
     "output_type": "stream",
     "text": [
      "A!\n",
      "B!\n"
     ]
    }
   ],
   "source": [
    "def a():\n",
    "    return 'A!'\n",
    "\n",
    "def b():\n",
    "    return 'B!'\n",
    "\n",
    "print(a())\n",
    "print(b())"
   ]
  },
  {
   "cell_type": "code",
   "execution_count": 3,
   "id": "7367b113-27e6-485c-98be-b282ace26593",
   "metadata": {},
   "outputs": [
    {
     "name": "stdout",
     "output_type": "stream",
     "text": [
      "------------------------------------------------------------\n",
      "A!\n",
      "------------------------------------------------------------\n",
      "\n",
      "------------------------------------------------------------\n",
      "B!\n",
      "------------------------------------------------------------\n",
      "\n"
     ]
    }
   ],
   "source": [
    "# put lines above and below each printout\n",
    "\n",
    "lines = '-' * 60 + '\\n'\n",
    "\n",
    "def a():\n",
    "    return f'{lines}A!\\n{lines}'\n",
    "\n",
    "def b():\n",
    "    return f'{lines}B!\\n{lines}'\n",
    "\n",
    "print(a())\n",
    "print(b())"
   ]
  },
  {
   "cell_type": "markdown",
   "id": "43ec5505-5c97-4152-9a6b-dfe7e86f81ac",
   "metadata": {},
   "source": [
    "# About functions\n",
    "\n",
    "1. Functions are objects, just like everything else in Python.\n",
    "2. When I use `def`, I'm doing two things:\n",
    "    - Creating a function object\n",
    "    - Assigning that function object to a variable\n",
    "3. When I assign a varible in a function, then that variable is local\n",
    "4. I can pass functions as arguments to other functions\n",
    "5. A function can return any type of object, including another function"
   ]
  },
  {
   "cell_type": "code",
   "execution_count": 5,
   "id": "6dd3c159-b28f-4b39-81c5-8734719a3ce7",
   "metadata": {},
   "outputs": [
    {
     "name": "stdout",
     "output_type": "stream",
     "text": [
      "------------------------------------------------------------\n",
      "A!\n",
      "------------------------------------------------------------\n",
      "\n",
      "------------------------------------------------------------\n",
      "B!\n",
      "------------------------------------------------------------\n",
      "\n"
     ]
    }
   ],
   "source": [
    "# use a function\n",
    "\n",
    "lines = '-' * 60 + '\\n'\n",
    "\n",
    "def with_lines(func):\n",
    "    return f'{lines}{func()}{lines}'\n",
    "\n",
    "def a():\n",
    "    return f'A!\\n'\n",
    "\n",
    "def b():\n",
    "    return f'B!\\n'\n",
    "\n",
    "print(with_lines(a))\n",
    "print(with_lines(b))"
   ]
  },
  {
   "cell_type": "code",
   "execution_count": 6,
   "id": "139669c0-4230-4fba-b405-ec81801915e8",
   "metadata": {},
   "outputs": [
    {
     "name": "stdout",
     "output_type": "stream",
     "text": [
      "------------------------------------------------------------\n",
      "A!\n",
      "------------------------------------------------------------\n",
      "\n",
      "------------------------------------------------------------\n",
      "B!\n",
      "------------------------------------------------------------\n",
      "\n"
     ]
    }
   ],
   "source": [
    "# use a function that returns a function\n",
    "\n",
    "lines = '-' * 60 + '\\n'\n",
    "\n",
    "def with_lines(func):\n",
    "    def wrapper():\n",
    "        return f'{lines}{func()}{lines}'\n",
    "    return wrapper\n",
    "\n",
    "def a():\n",
    "    return f'A!\\n'\n",
    "with_lines_a = with_lines(a)\n",
    "\n",
    "\n",
    "def b():\n",
    "    return f'B!\\n'\n",
    "with_lines_b = with_lines(b)\n",
    "\n",
    "print(with_lines_a())\n",
    "print(with_lines_b())"
   ]
  },
  {
   "cell_type": "code",
   "execution_count": 7,
   "id": "ee054ec5-7757-4ee1-a459-051440ace011",
   "metadata": {},
   "outputs": [
    {
     "name": "stdout",
     "output_type": "stream",
     "text": [
      "------------------------------------------------------------\n",
      "A!\n",
      "------------------------------------------------------------\n",
      "\n",
      "------------------------------------------------------------\n",
      "B!\n",
      "------------------------------------------------------------\n",
      "\n"
     ]
    }
   ],
   "source": [
    "# assign the result of calling with_lines back to the original function's name\n",
    "\n",
    "lines = '-' * 60 + '\\n'\n",
    "\n",
    "def with_lines(func):  # closure\n",
    "    def wrapper():\n",
    "        return f'{lines}{func()}{lines}'\n",
    "    return wrapper\n",
    "\n",
    "def a():\n",
    "    return f'A!\\n'\n",
    "a = with_lines(a)\n",
    "\n",
    "\n",
    "def b():\n",
    "    return f'B!\\n'\n",
    "b = with_lines(b)\n",
    "\n",
    "print(a())\n",
    "print(b())"
   ]
  },
  {
   "cell_type": "code",
   "execution_count": 8,
   "id": "00e28298-1fc9-4022-9220-f49aea4288b9",
   "metadata": {},
   "outputs": [
    {
     "name": "stdout",
     "output_type": "stream",
     "text": [
      "------------------------------------------------------------\n",
      "A!\n",
      "------------------------------------------------------------\n",
      "\n",
      "------------------------------------------------------------\n",
      "B!\n",
      "------------------------------------------------------------\n",
      "\n"
     ]
    }
   ],
   "source": [
    "# now, let's make it into a real decorator\n",
    "\n",
    "lines = '-' * 60 + '\\n'\n",
    "\n",
    "def with_lines(func):  # outer function is called once, just after the decorated function is defined\n",
    "\n",
    "    def wrapper():     # inner function is called INSTEAD OF the decorated function\n",
    "        return f'{lines}{func()}{lines}'\n",
    "    return wrapper\n",
    "\n",
    "@with_lines\n",
    "def a():\n",
    "    return f'A!\\n'\n",
    "# a = with_lines(a)\n",
    "\n",
    "\n",
    "@with_lines\n",
    "def b():\n",
    "    return f'B!\\n'\n",
    "# b = with_lines(b)\n",
    "\n",
    "print(a())\n",
    "print(b())"
   ]
  },
  {
   "cell_type": "code",
   "execution_count": 9,
   "id": "222826c2-f5ea-4251-bf66-22105ef321d5",
   "metadata": {},
   "outputs": [
    {
     "data": {
      "text/plain": [
       "'wrapper'"
      ]
     },
     "execution_count": 9,
     "metadata": {},
     "output_type": "execute_result"
    }
   ],
   "source": [
    "a.__name__"
   ]
  },
  {
   "cell_type": "code",
   "execution_count": 10,
   "id": "dec3b47e-3f1c-456b-8a40-1b9f28d97438",
   "metadata": {},
   "outputs": [
    {
     "data": {
      "text/plain": [
       "'wrapper'"
      ]
     },
     "execution_count": 10,
     "metadata": {},
     "output_type": "execute_result"
    }
   ],
   "source": [
    "b.__name__"
   ]
  },
  {
   "cell_type": "code",
   "execution_count": 14,
   "id": "9762556e-ddc7-4257-813f-e19a2ef7896a",
   "metadata": {},
   "outputs": [
    {
     "name": "stdout",
     "output_type": "stream",
     "text": [
      "------------------------------------------------------------\n",
      "A!\n",
      "------------------------------------------------------------\n",
      "\n",
      "------------------------------------------------------------\n",
      "B!\n",
      "------------------------------------------------------------\n",
      "\n",
      "------------------------------------------------------------\n",
      "8\n",
      "------------------------------------------------------------\n",
      "\n"
     ]
    }
   ],
   "source": [
    "# what about arguments?\n",
    "\n",
    "lines = '-' * 60 + '\\n'\n",
    "\n",
    "def with_lines(func):    # outer function is called once, just after the decorated function is defined\n",
    "\n",
    "    def wrapper(*args):  # inner function is called INSTEAD OF the decorated function\n",
    "        return f'{lines}{func(*args)}{lines}'  # unrolling of args in our call to func\n",
    "    return wrapper\n",
    "\n",
    "@with_lines\n",
    "def a():\n",
    "    return f'A!\\n'\n",
    "# a = with_lines(a)\n",
    "\n",
    "@with_lines\n",
    "def b():\n",
    "    return f'B!\\n'\n",
    "# b = with_lines(b)\n",
    "\n",
    "@with_lines\n",
    "def add(first, second):\n",
    "    return f'{first + second}\\n'\n",
    "\n",
    "print(a())\n",
    "print(b())\n",
    "print(add(3, 5))    # passing 2 positional arguments, because add requires two positional arguments"
   ]
  },
  {
   "cell_type": "markdown",
   "id": "8d72dc46-78c5-4045-93fa-c99d68de0352",
   "metadata": {},
   "source": [
    "# To write a decorator\n",
    "\n",
    "1. Write an outer function that has one parameter, `func`, which will be assigned the decorated function.\n",
    "2. The body of the outer function will define a new function, traditionally called `wrapper`.\n",
    "3. `wrapper` should take `*args` as an argument.\n",
    "4. The return value from `wrapper` will replace the return value from the original (decorated) function.  It can include the original function's output, but it doesn't have to.\n",
    "5. The outer function returns `wrapper`, which is assigned to the decorated function's name."
   ]
  },
  {
   "cell_type": "markdown",
   "id": "8c298480-37e1-4f84-ba6b-ed7e707dfc1c",
   "metadata": {},
   "source": [
    "# So what?\n",
    "\n",
    "- Redirect `stdout` or `stderr` for logging to a file\n",
    "- Check permissions before running a function\n",
    "- Check the date/time before running a function\n",
    "- Check the timing of a function's execution, and log it\n",
    "- Transform arguments before they're ever handed to the function\n",
    "- Transform outputs before they're returned by the function"
   ]
  },
  {
   "cell_type": "markdown",
   "id": "078e4ede-5034-4ebc-a504-3f6ede2dc2f7",
   "metadata": {},
   "source": [
    "# Exercise: Timing decorator\n",
    "\n",
    "1. Write two functions, `add` and `mul`.  These should add and multiply numbers, respectively.  Add a `time.sleep` in them, so that things won't run immediately.  You can say something like `time.sleep(random.randint(0, 3))`.\n",
    "2. Write a decorator, `timefunc`, which will run a decorated function, and will return the original value.  So the decorator won't change the inputs or outputs.\n",
    "3. The decorator will, however, keep track of how long the inner function was running.  You can use `time.perf_counter` to get the time in seconds, both before and after.\n",
    "4. Before returning its value, have the decorator write to a logfile the current time (`time.time`), the function's name (`__name__`), and the time it took to run.\n",
    "\n",
    "Example:\n",
    "\n",
    "    print(add(2,3))\n",
    "    print(mul(3, 6))\n",
    "    \n",
    "After that, we should see something like this in our logfile, `timelog.txt`:\n",
    "\n",
    "    123 add 3\n",
    "    125 mul 2\n",
    "    "
   ]
  }
 ],
 "metadata": {
  "kernelspec": {
   "display_name": "Python 3 (ipykernel)",
   "language": "python",
   "name": "python3"
  },
  "language_info": {
   "codemirror_mode": {
    "name": "ipython",
    "version": 3
   },
   "file_extension": ".py",
   "mimetype": "text/x-python",
   "name": "python",
   "nbconvert_exporter": "python",
   "pygments_lexer": "ipython3",
   "version": "3.10.0"
  }
 },
 "nbformat": 4,
 "nbformat_minor": 5
}
